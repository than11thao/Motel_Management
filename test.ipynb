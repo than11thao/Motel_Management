{
 "cells": [
  {
   "cell_type": "code",
   "execution_count": 2,
   "metadata": {},
   "outputs": [
    {
     "ename": "IndentationError",
     "evalue": "unindent does not match any outer indentation level (<tokenize>, line 80)",
     "output_type": "error",
     "traceback": [
      "\u001b[1;36m  File \u001b[1;32m<tokenize>:80\u001b[1;36m\u001b[0m\n\u001b[1;33m    </div>\u001b[0m\n\u001b[1;37m    ^\u001b[0m\n\u001b[1;31mIndentationError\u001b[0m\u001b[1;31m:\u001b[0m unindent does not match any outer indentation level\n"
     ]
    }
   ],
   "source": [
    "<div class=\"card-deck box-home\">\n",
    "            <div class=\"card\">\n",
    "                <div class=\"x_title\">\n",
    "                    <h3>Trạng thái phòng</h3>\n",
    "                </div>\n",
    "                <div class=\"x_content_table\">\n",
    "                    <div class=\"row status-room\">\n",
    "                        {% for room in all_room %}\n",
    "                            {% if room.status %}\n",
    "                                <div class=\"col-3 ele-room empty\">\n",
    "                                    {{ room.room_number}}\n",
    "                                </div>\n",
    "                            {% else %}\n",
    "                                <div class=\"col-3 ele-room available\">\n",
    "                                    {{ room.room_number}}\n",
    "                                </div>\n",
    "                            {% endif %}\n",
    "                        {% endfor %}\n",
    "                    </div>\n",
    "                </div>\n",
    "            </div>\n",
    "\n",
    "\n",
    "            <div class=\"card\">\n",
    "                <div class=\"x_title\">\n",
    "                    <h3>Danh sách khách nợ tiền phòng</h3>\n",
    "                </div>\n",
    "\n",
    "                <div class=\"x_content_table_debt\">\n",
    "                    <div class=\"table_debt\">\n",
    "                        <table>\n",
    "\n",
    "                            <thead>\n",
    "                                <tr class=\"header-table\">\n",
    "                                    <th>Phòng</th>\n",
    "                                    <th>Khách</th>\n",
    "                                    <th>Tháng</th>\n",
    "                                    <th>Số tiền (VND)</th>\n",
    "                                </tr>\n",
    "                            </thead>\n",
    "\n",
    "                            <tbody>\n",
    "                                <tr>\n",
    "                                    <td>1</td>\n",
    "                                    <td>Nguyễn Hồng Quân</td>\n",
    "                                    <td>Tháng 4</td>\n",
    "                                    <td>2.500.000</td>\n",
    "                                </tr>\n",
    "                                <tr>\n",
    "                                    <td>2</td>\n",
    "                                    <td>Võ Tiến Dũng</td>\n",
    "                                    <td>Tháng 12</td>\n",
    "                                    <td>1.000.000</td>\n",
    "                                </tr>\n",
    "                                <tr>\n",
    "                                    <td>6</td>\n",
    "                                    <td>Huỳnh Tấn Phát</td>\n",
    "                                    <td>Tháng 11</td>\n",
    "                                    <td>1.500.000</td>\n",
    "                                </tr>\n",
    "                                <tr>\n",
    "                                    <td>3</td>\n",
    "                                    <td>Hoàng Oanh</td>\n",
    "                                    <td>Tháng 5</td>\n",
    "                                    <td>500.000</td>\n",
    "                                </tr>\n",
    "                                <tr>\n",
    "                                    <td>5</td>\n",
    "                                    <td>Trần Văn Nhân</td>\n",
    "                                    <td>Tháng 1</td>\n",
    "                                    <td>400.000</td>\n",
    "                                </tr>\n",
    "                               \n",
    "                            </tbody>\n",
    "\n",
    "                        </table>\n",
    "                    </div>\n",
    "                </div>\n",
    "            </div>\n",
    "        </div>"
   ]
  },
  {
   "cell_type": "code",
   "execution_count": 7,
   "metadata": {},
   "outputs": [
    {
     "data": {
      "text/plain": [
       "{'0': 0, '1': 1, '2': 2, '3': 3, '4': 4}"
      ]
     },
     "execution_count": 7,
     "metadata": {},
     "output_type": "execute_result"
    }
   ],
   "source": [
    "x"
   ]
  }
 ],
 "metadata": {
  "kernelspec": {
   "display_name": "Python 3",
   "language": "python",
   "name": "python3"
  },
  "language_info": {
   "codemirror_mode": {
    "name": "ipython",
    "version": 3
   },
   "file_extension": ".py",
   "mimetype": "text/x-python",
   "name": "python",
   "nbconvert_exporter": "python",
   "pygments_lexer": "ipython3",
   "version": "3.11.1"
  },
  "orig_nbformat": 4,
  "vscode": {
   "interpreter": {
    "hash": "b37f6842cfa5693682ca177646b86562e7e6680399d6aa97975ae5063d95e764"
   }
  }
 },
 "nbformat": 4,
 "nbformat_minor": 2
}
